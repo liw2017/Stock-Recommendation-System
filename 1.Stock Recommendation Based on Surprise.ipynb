{
 "cells": [
  {
   "cell_type": "markdown",
   "metadata": {},
   "source": [
    "Group Members: Renjie Dai (ID: 1007547219), Wenxin Li (ID: 1007508724)"
   ]
  },
  {
   "cell_type": "code",
   "execution_count": 1,
   "metadata": {},
   "outputs": [],
   "source": [
    "# APS1052 Final Project: Recommendation System by NMF\n",
    "#\n",
    "# Renjie Dai <renjie.dai@mail.utoronto.ca>\n",
    "# Wenxin Li <wency.li@mail.utoronto.ca>\n",
    "#\n",
    "#This notebook aims to build a recommendation system based on NMF by using \n",
    "#surprise lib(http://surpriselib.com/). The data is from WRDS, and it is \n",
    "#captured by kernel579f01f557_DFData.ipynb.\n"
   ]
  },
  {
   "cell_type": "code",
   "execution_count": 2,
   "metadata": {},
   "outputs": [],
   "source": [
    "'''Main'''\n",
    "import pandas as pd\n",
    "import numpy as np\n",
    "\n",
    "'''Data Viz'''\n",
    "import matplotlib.pyplot as plt\n",
    "\n",
    "%matplotlib inline\n",
    "\n",
    "'''Data Prep and Model Evaluation'''\n",
    "from sklearn.preprocessing import MinMaxScaler\n",
    "from sklearn.model_selection import train_test_split as skl_train_test_split\n",
    "from sklearn.metrics import mean_squared_error\n",
    "\n",
    "'''Surprise Lib'''\n",
    "from surprise import SVD,NMF, BaselineOnly\n",
    "from surprise import Dataset\n",
    "from surprise import Reader\n",
    "from surprise.model_selection import cross_validate\n",
    "from surprise.model_selection import train_test_split as sur_train_test_split\n",
    "from surprise import accuracy"
   ]
  },
  {
   "cell_type": "code",
   "execution_count": 3,
   "metadata": {},
   "outputs": [],
   "source": [
    "#Load the data\n",
    "df = pd.read_csv('DF3.csv')"
   ]
  },
  {
   "cell_type": "code",
   "execution_count": 4,
   "metadata": {},
   "outputs": [
    {
     "data": {
      "text/html": [
       "<div>\n",
       "<style scoped>\n",
       "    .dataframe tbody tr th:only-of-type {\n",
       "        vertical-align: middle;\n",
       "    }\n",
       "\n",
       "    .dataframe tbody tr th {\n",
       "        vertical-align: top;\n",
       "    }\n",
       "\n",
       "    .dataframe thead th {\n",
       "        text-align: right;\n",
       "    }\n",
       "</style>\n",
       "<table border=\"1\" class=\"dataframe\">\n",
       "  <thead>\n",
       "    <tr style=\"text-align: right;\">\n",
       "      <th></th>\n",
       "      <th>Unnamed: 0</th>\n",
       "      <th>mgrno</th>\n",
       "      <th>permno</th>\n",
       "      <th>por_per_stock</th>\n",
       "      <th>rdate</th>\n",
       "      <th>qdate</th>\n",
       "    </tr>\n",
       "  </thead>\n",
       "  <tbody>\n",
       "    <tr>\n",
       "      <th>0</th>\n",
       "      <td>0</td>\n",
       "      <td>110.0</td>\n",
       "      <td>66093.0</td>\n",
       "      <td>0.001939</td>\n",
       "      <td>2018-03-31</td>\n",
       "      <td>2018-03-31</td>\n",
       "    </tr>\n",
       "    <tr>\n",
       "      <th>1</th>\n",
       "      <td>1</td>\n",
       "      <td>110.0</td>\n",
       "      <td>20482.0</td>\n",
       "      <td>0.000260</td>\n",
       "      <td>2018-03-31</td>\n",
       "      <td>2018-03-31</td>\n",
       "    </tr>\n",
       "    <tr>\n",
       "      <th>2</th>\n",
       "      <td>2</td>\n",
       "      <td>110.0</td>\n",
       "      <td>13721.0</td>\n",
       "      <td>0.000575</td>\n",
       "      <td>2018-03-31</td>\n",
       "      <td>2018-03-31</td>\n",
       "    </tr>\n",
       "    <tr>\n",
       "      <th>3</th>\n",
       "      <td>3</td>\n",
       "      <td>110.0</td>\n",
       "      <td>71271.0</td>\n",
       "      <td>0.000488</td>\n",
       "      <td>2018-03-31</td>\n",
       "      <td>2018-03-31</td>\n",
       "    </tr>\n",
       "    <tr>\n",
       "      <th>4</th>\n",
       "      <td>4</td>\n",
       "      <td>110.0</td>\n",
       "      <td>14542.0</td>\n",
       "      <td>0.000411</td>\n",
       "      <td>2018-03-31</td>\n",
       "      <td>2018-03-31</td>\n",
       "    </tr>\n",
       "  </tbody>\n",
       "</table>\n",
       "</div>"
      ],
      "text/plain": [
       "   Unnamed: 0  mgrno   permno  por_per_stock       rdate       qdate\n",
       "0           0  110.0  66093.0       0.001939  2018-03-31  2018-03-31\n",
       "1           1  110.0  20482.0       0.000260  2018-03-31  2018-03-31\n",
       "2           2  110.0  13721.0       0.000575  2018-03-31  2018-03-31\n",
       "3           3  110.0  71271.0       0.000488  2018-03-31  2018-03-31\n",
       "4           4  110.0  14542.0       0.000411  2018-03-31  2018-03-31"
      ]
     },
     "execution_count": 4,
     "metadata": {},
     "output_type": "execute_result"
    }
   ],
   "source": [
    "df.head()"
   ]
  },
  {
   "cell_type": "code",
   "execution_count": 5,
   "metadata": {},
   "outputs": [
    {
     "data": {
      "text/plain": [
       "(10670491, 6)"
      ]
     },
     "execution_count": 5,
     "metadata": {},
     "output_type": "execute_result"
    }
   ],
   "source": [
    "df.shape"
   ]
  },
  {
   "cell_type": "code",
   "execution_count": 6,
   "metadata": {},
   "outputs": [],
   "source": [
    "#Drop useless colunms\n",
    "df.drop(['Unnamed: 0','rdate'], axis=1, inplace=True)\n",
    "#Replace nans to 0\n",
    "df['por_per_stock'] = df['por_per_stock'].replace(np.nan, 0)\n",
    "#Vary the scale if needed\n",
    "scaler = MinMaxScaler(feature_range=(0,1))\n",
    "#df[[\"por_per_stock\"]] = scaler.fit_transform(df[[\"por_per_stock\"]])"
   ]
  },
  {
   "cell_type": "code",
   "execution_count": 7,
   "metadata": {},
   "outputs": [],
   "source": [
    "# Convert fields into appropriate data types\n",
    "df.mgrno = df.mgrno.astype(int)\n",
    "df.permno = df.permno.astype(int)\n",
    "df.por_per_stock = df.por_per_stock.astype(float)\n",
    "df.qdate = pd.to_datetime(df.qdate)"
   ]
  },
  {
   "cell_type": "code",
   "execution_count": 8,
   "metadata": {},
   "outputs": [
    {
     "data": {
      "text/html": [
       "<div>\n",
       "<style scoped>\n",
       "    .dataframe tbody tr th:only-of-type {\n",
       "        vertical-align: middle;\n",
       "    }\n",
       "\n",
       "    .dataframe tbody tr th {\n",
       "        vertical-align: top;\n",
       "    }\n",
       "\n",
       "    .dataframe thead th {\n",
       "        text-align: right;\n",
       "    }\n",
       "</style>\n",
       "<table border=\"1\" class=\"dataframe\">\n",
       "  <thead>\n",
       "    <tr style=\"text-align: right;\">\n",
       "      <th></th>\n",
       "      <th>mgrno</th>\n",
       "      <th>permno</th>\n",
       "      <th>por_per_stock</th>\n",
       "      <th>qdate</th>\n",
       "    </tr>\n",
       "  </thead>\n",
       "  <tbody>\n",
       "    <tr>\n",
       "      <th>0</th>\n",
       "      <td>110</td>\n",
       "      <td>66093</td>\n",
       "      <td>0.001939</td>\n",
       "      <td>2018-03-31</td>\n",
       "    </tr>\n",
       "    <tr>\n",
       "      <th>1</th>\n",
       "      <td>110</td>\n",
       "      <td>20482</td>\n",
       "      <td>0.000260</td>\n",
       "      <td>2018-03-31</td>\n",
       "    </tr>\n",
       "    <tr>\n",
       "      <th>2</th>\n",
       "      <td>110</td>\n",
       "      <td>13721</td>\n",
       "      <td>0.000575</td>\n",
       "      <td>2018-03-31</td>\n",
       "    </tr>\n",
       "    <tr>\n",
       "      <th>3</th>\n",
       "      <td>110</td>\n",
       "      <td>71271</td>\n",
       "      <td>0.000488</td>\n",
       "      <td>2018-03-31</td>\n",
       "    </tr>\n",
       "    <tr>\n",
       "      <th>4</th>\n",
       "      <td>110</td>\n",
       "      <td>14542</td>\n",
       "      <td>0.000411</td>\n",
       "      <td>2018-03-31</td>\n",
       "    </tr>\n",
       "  </tbody>\n",
       "</table>\n",
       "</div>"
      ],
      "text/plain": [
       "   mgrno  permno  por_per_stock      qdate\n",
       "0    110   66093       0.001939 2018-03-31\n",
       "1    110   20482       0.000260 2018-03-31\n",
       "2    110   13721       0.000575 2018-03-31\n",
       "3    110   71271       0.000488 2018-03-31\n",
       "4    110   14542       0.000411 2018-03-31"
      ]
     },
     "execution_count": 8,
     "metadata": {},
     "output_type": "execute_result"
    }
   ],
   "source": [
    "df.head()"
   ]
  },
  {
   "cell_type": "code",
   "execution_count": 9,
   "metadata": {},
   "outputs": [],
   "source": [
    "#Pick the most recent managers' rating\n",
    "df.sort_values(by=['qdate'],ascending=False,inplace=True)\n",
    "df = df.groupby(['mgrno','permno']).head(1)\n",
    "df.drop(\"qdate\", axis=1, inplace=True)"
   ]
  },
  {
   "cell_type": "code",
   "execution_count": 10,
   "metadata": {},
   "outputs": [
    {
     "name": "stdout",
     "output_type": "stream",
     "text": [
      "Number of unique managers:  6038\n",
      "Number of unique stocks:  8466\n",
      "Number of total ratings:  2261139\n",
      "Average number of ratings per manager:  374.48476316661146\n"
     ]
    }
   ],
   "source": [
    "# Calculate summary statistics on full dataset\n",
    "\n",
    "# 2,261,139 ratings\n",
    "# 26,744 unique movies\n",
    "# 138,493 unique users\n",
    "# 144 ratings on average per user\n",
    "\n",
    "n_mgrs = df.mgrno.unique().shape[0]\n",
    "n_permon = df.permno.unique().shape[0]\n",
    "n_ratings = len(df)\n",
    "avg_ratings_per_mgr = n_ratings/n_mgrs\n",
    "\n",
    "print('Number of unique managers: ', n_mgrs)\n",
    "print('Number of unique stocks: ', n_permon)\n",
    "print('Number of total ratings: ', n_ratings)\n",
    "print('Average number of ratings per manager: ', avg_ratings_per_mgr)"
   ]
  },
  {
   "cell_type": "code",
   "execution_count": 11,
   "metadata": {},
   "outputs": [
    {
     "data": {
      "text/html": [
       "<div>\n",
       "<style scoped>\n",
       "    .dataframe tbody tr th:only-of-type {\n",
       "        vertical-align: middle;\n",
       "    }\n",
       "\n",
       "    .dataframe tbody tr th {\n",
       "        vertical-align: top;\n",
       "    }\n",
       "\n",
       "    .dataframe thead th {\n",
       "        text-align: right;\n",
       "    }\n",
       "</style>\n",
       "<table border=\"1\" class=\"dataframe\">\n",
       "  <thead>\n",
       "    <tr style=\"text-align: right;\">\n",
       "      <th></th>\n",
       "      <th>mgrno</th>\n",
       "      <th>permno</th>\n",
       "      <th>por_per_stock</th>\n",
       "    </tr>\n",
       "  </thead>\n",
       "  <tbody>\n",
       "    <tr>\n",
       "      <th>5335245</th>\n",
       "      <td>12902</td>\n",
       "      <td>71271</td>\n",
       "      <td>0.000013</td>\n",
       "    </tr>\n",
       "    <tr>\n",
       "      <th>4465954</th>\n",
       "      <td>12116</td>\n",
       "      <td>84398</td>\n",
       "      <td>0.029516</td>\n",
       "    </tr>\n",
       "    <tr>\n",
       "      <th>4465948</th>\n",
       "      <td>12116</td>\n",
       "      <td>86996</td>\n",
       "      <td>0.000006</td>\n",
       "    </tr>\n",
       "    <tr>\n",
       "      <th>4465949</th>\n",
       "      <td>12116</td>\n",
       "      <td>68196</td>\n",
       "      <td>0.000002</td>\n",
       "    </tr>\n",
       "    <tr>\n",
       "      <th>4465950</th>\n",
       "      <td>12116</td>\n",
       "      <td>54199</td>\n",
       "      <td>0.000002</td>\n",
       "    </tr>\n",
       "  </tbody>\n",
       "</table>\n",
       "</div>"
      ],
      "text/plain": [
       "         mgrno  permno  por_per_stock\n",
       "5335245  12902   71271       0.000013\n",
       "4465954  12116   84398       0.029516\n",
       "4465948  12116   86996       0.000006\n",
       "4465949  12116   68196       0.000002\n",
       "4465950  12116   54199       0.000002"
      ]
     },
     "execution_count": 11,
     "metadata": {},
     "output_type": "execute_result"
    }
   ],
   "source": [
    "# Preview data\n",
    "df.head()"
   ]
  },
  {
   "cell_type": "code",
   "execution_count": null,
   "metadata": {},
   "outputs": [],
   "source": []
  },
  {
   "cell_type": "code",
   "execution_count": 12,
   "metadata": {},
   "outputs": [
    {
     "data": {
      "text/plain": [
       "mgrno            1366712\n",
       "permno           1366712\n",
       "por_per_stock    1366712\n",
       "dtype: int64"
      ]
     },
     "execution_count": 12,
     "metadata": {},
     "output_type": "execute_result"
    }
   ],
   "source": [
    "# Reduce size of dataset by select the number of stocks\n",
    "stockIndex = df.groupby(\"permno\").count().sort_values(by= \\\n",
    "                \"por_per_stock\",ascending=False).iloc[0:1500].index\n",
    "dfx2 = df[df.permno.isin(stockIndex)]\n",
    "dfx2.count()"
   ]
  },
  {
   "cell_type": "code",
   "execution_count": 13,
   "metadata": {},
   "outputs": [
    {
     "data": {
      "text/plain": [
       "mgrno            993411\n",
       "permno           993411\n",
       "por_per_stock    993411\n",
       "dtype: int64"
      ]
     },
     "execution_count": 13,
     "metadata": {},
     "output_type": "execute_result"
    }
   ],
   "source": [
    "# Reduce size of dataset by sampling the number of managers\n",
    "mgrIndex = dfx2.groupby(\"mgrno\").count().sort_values(by= \\\n",
    "    \"por_per_stock\",ascending=False).sample(n=4200, random_state=2018).index\n",
    "dfx3 = dfx2[dfx2.mgrno.isin(mgrIndex)]\n",
    "dfx3.count()"
   ]
  },
  {
   "cell_type": "code",
   "execution_count": null,
   "metadata": {},
   "outputs": [],
   "source": []
  },
  {
   "cell_type": "code",
   "execution_count": 14,
   "metadata": {},
   "outputs": [
    {
     "name": "stdout",
     "output_type": "stream",
     "text": [
      "Number of unique managers:  4200\n",
      "Number of unique stocks:  1500\n",
      "Number of total ratings:  993411\n",
      "Average number of ratings per manager:  236.52642857142857\n"
     ]
    }
   ],
   "source": [
    "# Calculate summary statistics on reduced dataset\n",
    "n_mgrs = dfx3.mgrno.unique().shape[0]\n",
    "n_permon = dfx3.permno.unique().shape[0]\n",
    "n_ratings = len(dfx3)\n",
    "avg_ratings_per_mgr = n_ratings/n_mgrs\n",
    "\n",
    "print('Number of unique managers: ', n_mgrs)\n",
    "print('Number of unique stocks: ', n_permon)\n",
    "print('Number of total ratings: ', n_ratings)\n",
    "print('Average number of ratings per manager: ', avg_ratings_per_mgr)"
   ]
  },
  {
   "cell_type": "code",
   "execution_count": 15,
   "metadata": {},
   "outputs": [],
   "source": [
    "#Split Data by Sklearn\n",
    "#(Since the trainset from surprise spliter is unreadable, estimate sparsity by sklearn spliter with the same random state.)\n",
    "traindata, testset = skl_train_test_split(dfx3, test_size=0.1,random_state=42)\n",
    "validation, testset = skl_train_test_split(testset, test_size=0.50, shuffle=True, random_state=42)"
   ]
  },
  {
   "cell_type": "code",
   "execution_count": 16,
   "metadata": {},
   "outputs": [
    {
     "name": "stdout",
     "output_type": "stream",
     "text": [
      "Size of train set:  894069\n",
      "Size of validation set:  49671\n",
      "Size of test set:  49671\n"
     ]
    }
   ],
   "source": [
    "print('Size of train set: ', len(traindata))\n",
    "print('Size of validation set: ', len(validation))\n",
    "print('Size of test set: ', len(testset))"
   ]
  },
  {
   "cell_type": "code",
   "execution_count": 17,
   "metadata": {},
   "outputs": [
    {
     "name": "stdout",
     "output_type": "stream",
     "text": [
      "Trainset Sparsity: 14.24%\n"
     ]
    }
   ],
   "source": [
    "# Generate ratings matrix for train\n",
    "ratings_train = traindata.pivot_table(index = 'mgrno', columns ='permno', values = 'por_per_stock').fillna(0)\n",
    "sparsity = len(ratings_train.to_numpy().nonzero()[0])/(ratings_train.shape[0] * ratings_train.shape[1])*100\n",
    "print('Trainset Sparsity: {:4.2f}%'.format(sparsity))"
   ]
  },
  {
   "cell_type": "code",
   "execution_count": 18,
   "metadata": {},
   "outputs": [],
   "source": [
    "# Generate ratings matrix for validation\n",
    "ratings_validation = validation.pivot_table(index = 'mgrno', columns ='permno', values = 'por_per_stock').fillna(0).values"
   ]
  },
  {
   "cell_type": "code",
   "execution_count": 19,
   "metadata": {},
   "outputs": [
    {
     "name": "stdout",
     "output_type": "stream",
     "text": [
      "Testset Sparsity: 0.92%\n"
     ]
    }
   ],
   "source": [
    "# Generate ratings matrix for test\n",
    "ratings_test = pd.DataFrame(testset,columns=['mgrno', 'permno', 'por_per_stock']).pivot_table(index = 'mgrno', columns ='permno', values = 'por_per_stock').fillna(0)\n",
    "sparsity = len(ratings_test.to_numpy().nonzero()[0])/(ratings_test.shape[0] * ratings_test.shape[1])*100\n",
    "print('Testset Sparsity: {:4.2f}%'.format(sparsity))"
   ]
  },
  {
   "cell_type": "markdown",
   "metadata": {},
   "source": [
    "# Experiment One: \n",
    "\n",
    "Predict a user's rating based on user's average rating for all other movies"
   ]
  },
  {
   "cell_type": "code",
   "execution_count": 20,
   "metadata": {},
   "outputs": [
    {
     "name": "stdout",
     "output_type": "stream",
     "text": [
      "Mean squared error using naive prediction: 5.104409698130562e-05\n"
     ]
    }
   ],
   "source": [
    "#The same thing in In 10_rbms_mod - for_students_freeze2.ipynb\n",
    "\n",
    "default = dfx3.por_per_stock.median()\n",
    "actual_validation = ratings_validation[ratings_validation.nonzero()].flatten()\n",
    "pred_validation = np.zeros((actual_validation.shape[0],1))\n",
    "pred_validation[pred_validation==0] = default\n",
    "naive_prediction = mean_squared_error(pred_validation, actual_validation)\n",
    "print('Mean squared error using naive prediction:', naive_prediction)"
   ]
  },
  {
   "cell_type": "code",
   "execution_count": 21,
   "metadata": {},
   "outputs": [],
   "source": [
    "ratings_validation_prediction = np.zeros((n_mgrs, n_permon))\n",
    "i = 0\n",
    "for row in ratings_train:\n",
    "    try:\n",
    "        ratings_validation_prediction[i][ratings_validation_prediction[i]==0] \\\n",
    "            = np.mean(row[row>0])\n",
    "        i += 1\n",
    "    except:\n",
    "        ratings_validation_prediction[i][ratings_validation_prediction[i]==0] \\\n",
    "        = default\n",
    "        i += 1\n",
    "        \n",
    "\n",
    "pred_validation = ratings_validation_prediction \\\n",
    "    [ratings_validation.nonzero()].flatten()\n",
    "#user_average = mean_squared_error(pred_validation, actual_validation)\n",
    "#print('Mean squared error using user average:', user_average)"
   ]
  },
  {
   "cell_type": "code",
   "execution_count": 22,
   "metadata": {},
   "outputs": [
    {
     "name": "stdout",
     "output_type": "stream",
     "text": [
      "(49671,)\n",
      "(49671,)\n",
      "<class 'numpy.ndarray'>\n",
      "<class 'numpy.ndarray'>\n"
     ]
    }
   ],
   "source": [
    "print(pred_validation.shape)\n",
    "print(actual_validation.shape)\n",
    "print(type(pred_validation))\n",
    "print(type(actual_validation))\n",
    "pred_validation = np.nan_to_num(pred_validation, nan=default, posinf=default, neginf=default) #errors \n",
    "actual_validation = np.nan_to_num(actual_validation, nan=default, posinf=default, neginf=default) #errors"
   ]
  },
  {
   "cell_type": "code",
   "execution_count": 23,
   "metadata": {},
   "outputs": [
    {
     "name": "stdout",
     "output_type": "stream",
     "text": [
      "Mean squared error using user average: 5.110372573290788e-05\n"
     ]
    }
   ],
   "source": [
    "user_average = mean_squared_error(pred_validation, actual_validation)\n",
    "print('Mean squared error using user average:', user_average)"
   ]
  },
  {
   "cell_type": "markdown",
   "metadata": {},
   "source": [
    "# Experiment Two:\n",
    "Recommender System using Matrix Factorization (NMF)\\\n",
    "MSE vs Latent factors"
   ]
  },
  {
   "cell_type": "code",
   "execution_count": 24,
   "metadata": {},
   "outputs": [],
   "source": [
    "#Split Data by Surprise\n",
    "reader = Reader(rating_scale=(0, 1))\n",
    "dfsu = Dataset.load_from_df(dfx3,reader)\n",
    "trainset, testset = sur_train_test_split(dfsu, test_size=0.1,random_state=42)"
   ]
  },
  {
   "cell_type": "code",
   "execution_count": 25,
   "metadata": {},
   "outputs": [],
   "source": [
    "def mse_vs_factors(factor_range, trainset, testset, epochs):\n",
    "    \"\"\"Returns: \n",
    "    factor_range for loop start at 1\n",
    "    trainset & testset from surprise spliter\n",
    "    epochs for NMF epochs, default is 50\n",
    "    \"\"\"\n",
    "\n",
    "    mse_list = []\n",
    "    latent_factor_num = []\n",
    "\n",
    "    for k in factor_range:\n",
    "        algo = NMF(n_factors = k, n_epochs = epochs)\n",
    "        algo.fit(trainset)\n",
    "        predictions = algo.test(testset)\n",
    "        print('Latent Factor =' ,k) ,mse_list.append(accuracy.mse(predictions,verbose=False))\n",
    "        print('MSE:',mse_list[-1])\n",
    "        latent_factor_num.append(k)\n",
    "    plt.subplot()\n",
    "    plt.title(\"MSE Against Number of Factors\", size = 15 , y=1.08)\n",
    "    plt.plot(latent_factor_num, mse_list)\n",
    "    plt.xlabel(\"Number of Latent Factor\")\n",
    "    plt.ylabel(\"MSE\")\n",
    "    return mse_list, latent_factor_num"
   ]
  },
  {
   "cell_type": "code",
   "execution_count": 26,
   "metadata": {},
   "outputs": [
    {
     "name": "stdout",
     "output_type": "stream",
     "text": [
      "Latent Factor = 1\n",
      "MSE: 4.7459256161385175e-05\n",
      "Latent Factor = 2\n",
      "MSE: 4.7459256161377226e-05\n",
      "Latent Factor = 3\n",
      "MSE: 4.7459256160930894e-05\n",
      "Latent Factor = 4\n",
      "MSE: 4.745925616408226e-05\n",
      "Latent Factor = 5\n",
      "MSE: 4.7459256168279955e-05\n",
      "Latent Factor = 6\n",
      "MSE: 4.7459256167132375e-05\n",
      "Latent Factor = 7\n",
      "MSE: 4.745925617033228e-05\n",
      "Latent Factor = 8\n",
      "MSE: 4.745925616733986e-05\n",
      "Latent Factor = 9\n",
      "MSE: 4.745925617003412e-05\n"
     ]
    },
    {
     "data": {
      "image/png": "[encoded data removed]",
      "text/plain": [
       "<Figure size 432x288 with 1 Axes>"
      ]
     },
     "metadata": {
      "needs_background": "light"
     },
     "output_type": "display_data"
    }
   ],
   "source": [
    "#Vary number of latent factors with factor_range\n",
    "factor_range = range(1,10)\n",
    "result = mse_vs_factors(factor_range, trainset, testset, 50)"
   ]
  },
  {
   "cell_type": "markdown",
   "metadata": {},
   "source": [
    "# Experiment 3: Vary the Sparsity"
   ]
  },
  {
   "cell_type": "code",
   "execution_count": 27,
   "metadata": {},
   "outputs": [
    {
     "name": "stdout",
     "output_type": "stream",
     "text": [
      "Number of unique managers:  3500\n",
      "Number of unique stocks:  3000\n",
      "Number of total ratings:  1083502\n",
      "Average number of ratings per manager:  309.572\n",
      "Trainset Sparsity: 9.30%\n"
     ]
    }
   ],
   "source": [
    "# Reduce size of dataset by taking top 3000 stocks\n",
    "stockIndex = df.groupby(\"permno\").count().sort_values(by= \\\n",
    "                \"por_per_stock\",ascending=False).iloc[0:3000].index\n",
    "dfx2_s = df[df.permno.isin(stockIndex)]\n",
    "\n",
    "# Reduce size of dataset by sampling the number of managers\n",
    "mgrIndex = dfx2_s.groupby(\"mgrno\").count().sort_values(by= \\\n",
    "    \"por_per_stock\",ascending=False).sample(n=3500, random_state=2018).index\n",
    "dfx3_s = dfx2_s[dfx2_s.mgrno.isin(mgrIndex)]\n",
    "# Calculate summary statistics and sparsity\n",
    "n_mgrs = dfx3_s.mgrno.unique().shape[0]\n",
    "n_permon = dfx3_s.permno.unique().shape[0]\n",
    "n_ratings = len(dfx3_s)\n",
    "avg_ratings_per_mgr = n_ratings/n_mgrs\n",
    "traindata_s, testset_s = skl_train_test_split(dfx3_s, test_size=0.1,random_state=42)\n",
    "# Generate ratings matrix for train\n",
    "ratingtrain = traindata_s.pivot_table(index = 'mgrno', columns ='permno', values = 'por_per_stock').fillna(0)\n",
    "sparsity = len(ratingtrain.to_numpy().nonzero()[0])/(ratingtrain.shape[0] * ratingtrain.shape[1])*100\n",
    "\n",
    "print('Number of unique managers: ', n_mgrs)\n",
    "print('Number of unique stocks: ', n_permon)\n",
    "print('Number of total ratings: ', n_ratings)\n",
    "print('Average number of ratings per manager: ', avg_ratings_per_mgr)\n",
    "print('Trainset Sparsity: {:4.2f}%'.format(sparsity))"
   ]
  },
  {
   "cell_type": "code",
   "execution_count": 28,
   "metadata": {},
   "outputs": [],
   "source": [
    "dfsu_s = Dataset.load_from_df(dfx3_s,reader)\n",
    "trainset_s, testset_s = sur_train_test_split(dfsu_s, test_size=0.1,random_state=42)"
   ]
  },
  {
   "cell_type": "code",
   "execution_count": 29,
   "metadata": {},
   "outputs": [
    {
     "name": "stdout",
     "output_type": "stream",
     "text": [
      "Latent Factor = 1\n",
      "MSE: 3.404285323855071e-05\n",
      "Latent Factor = 2\n",
      "MSE: 3.404286188340639e-05\n",
      "Latent Factor = 3\n",
      "MSE: 3.404287515420364e-05\n",
      "Latent Factor = 4\n",
      "MSE: 3.404285755697598e-05\n",
      "Latent Factor = 5\n",
      "MSE: 3.404286356024768e-05\n",
      "Latent Factor = 6\n",
      "MSE: 3.4042863552202474e-05\n",
      "Latent Factor = 7\n",
      "MSE: 3.404287007742251e-05\n",
      "Latent Factor = 8\n",
      "MSE: 3.40428717030882e-05\n",
      "Latent Factor = 9\n",
      "MSE: 3.404286057537597e-05\n"
     ]
    },
    {
     "data": {
      "text/plain": [
       "([3.404285323855071e-05,\n",
       "  3.404286188340639e-05,\n",
       "  3.404287515420364e-05,\n",
       "  3.404285755697598e-05,\n",
       "  3.404286356024768e-05,\n",
       "  3.4042863552202474e-05,\n",
       "  3.404287007742251e-05,\n",
       "  3.40428717030882e-05,\n",
       "  3.404286057537597e-05],\n",
       " [1, 2, 3, 4, 5, 6, 7, 8, 9])"
      ]
     },
     "execution_count": 29,
     "metadata": {},
     "output_type": "execute_result"
    },
    {
     "data": {
      "image/png": "[encoded data removed]",
      "text/plain": [
       "<Figure size 432x288 with 1 Axes>"
      ]
     },
     "metadata": {
      "needs_background": "light"
     },
     "output_type": "display_data"
    }
   ],
   "source": [
    "mse_vs_factors(factor_range, trainset_s, testset_s, 50)"
   ]
  },
  {
   "cell_type": "code",
   "execution_count": null,
   "metadata": {},
   "outputs": [],
   "source": []
  },
  {
   "cell_type": "markdown",
   "metadata": {},
   "source": [
    "# Experiment 4: Cut the tail"
   ]
  },
  {
   "cell_type": "code",
   "execution_count": 30,
   "metadata": {},
   "outputs": [
    {
     "data": {
      "text/html": [
       "<div>\n",
       "<style scoped>\n",
       "    .dataframe tbody tr th:only-of-type {\n",
       "        vertical-align: middle;\n",
       "    }\n",
       "\n",
       "    .dataframe tbody tr th {\n",
       "        vertical-align: top;\n",
       "    }\n",
       "\n",
       "    .dataframe thead th {\n",
       "        text-align: right;\n",
       "    }\n",
       "</style>\n",
       "<table border=\"1\" class=\"dataframe\">\n",
       "  <thead>\n",
       "    <tr style=\"text-align: right;\">\n",
       "      <th></th>\n",
       "      <th>mgrno</th>\n",
       "      <th>permno</th>\n",
       "      <th>por_per_stock</th>\n",
       "    </tr>\n",
       "  </thead>\n",
       "  <tbody>\n",
       "    <tr>\n",
       "      <th>count</th>\n",
       "      <td>2.261139e+06</td>\n",
       "      <td>2.261139e+06</td>\n",
       "      <td>2.261139e+06</td>\n",
       "    </tr>\n",
       "    <tr>\n",
       "      <th>mean</th>\n",
       "      <td>2.486851e+04</td>\n",
       "      <td>5.419670e+04</td>\n",
       "      <td>6.385622e-04</td>\n",
       "    </tr>\n",
       "    <tr>\n",
       "      <th>std</th>\n",
       "      <td>2.193534e+04</td>\n",
       "      <td>3.333099e+04</td>\n",
       "      <td>6.240875e-03</td>\n",
       "    </tr>\n",
       "    <tr>\n",
       "      <th>min</th>\n",
       "      <td>1.100000e+02</td>\n",
       "      <td>1.002600e+04</td>\n",
       "      <td>0.000000e+00</td>\n",
       "    </tr>\n",
       "    <tr>\n",
       "      <th>25%</th>\n",
       "      <td>1.128000e+04</td>\n",
       "      <td>1.643100e+04</td>\n",
       "      <td>2.915520e-06</td>\n",
       "    </tr>\n",
       "    <tr>\n",
       "      <th>50%</th>\n",
       "      <td>1.401000e+04</td>\n",
       "      <td>6.474200e+04</td>\n",
       "      <td>2.758138e-05</td>\n",
       "    </tr>\n",
       "    <tr>\n",
       "      <th>75%</th>\n",
       "      <td>2.792600e+04</td>\n",
       "      <td>8.815900e+04</td>\n",
       "      <td>1.975777e-04</td>\n",
       "    </tr>\n",
       "    <tr>\n",
       "      <th>max</th>\n",
       "      <td>9.510500e+04</td>\n",
       "      <td>9.343600e+04</td>\n",
       "      <td>1.000000e+00</td>\n",
       "    </tr>\n",
       "  </tbody>\n",
       "</table>\n",
       "</div>"
      ],
      "text/plain": [
       "              mgrno        permno  por_per_stock\n",
       "count  2.261139e+06  2.261139e+06   2.261139e+06\n",
       "mean   2.486851e+04  5.419670e+04   6.385622e-04\n",
       "std    2.193534e+04  3.333099e+04   6.240875e-03\n",
       "min    1.100000e+02  1.002600e+04   0.000000e+00\n",
       "25%    1.128000e+04  1.643100e+04   2.915520e-06\n",
       "50%    1.401000e+04  6.474200e+04   2.758138e-05\n",
       "75%    2.792600e+04  8.815900e+04   1.975777e-04\n",
       "max    9.510500e+04  9.343600e+04   1.000000e+00"
      ]
     },
     "execution_count": 30,
     "metadata": {},
     "output_type": "execute_result"
    }
   ],
   "source": [
    "df.describe()"
   ]
  },
  {
   "cell_type": "code",
   "execution_count": 31,
   "metadata": {},
   "outputs": [
    {
     "data": {
      "text/plain": [
       "<AxesSubplot:ylabel='Frequency'>"
      ]
     },
     "execution_count": 31,
     "metadata": {},
     "output_type": "execute_result"
    },
    {
     "data": {
      "image/png": "[encoded data removed]",
      "text/plain": [
       "<Figure size 432x288 with 1 Axes>"
      ]
     },
     "metadata": {
      "needs_background": "light"
     },
     "output_type": "display_data"
    }
   ],
   "source": [
    "df.por_per_stock.plot.hist(bins=100)"
   ]
  },
  {
   "cell_type": "code",
   "execution_count": 32,
   "metadata": {},
   "outputs": [
    {
     "data": {
      "text/html": [
       "<div>\n",
       "<style scoped>\n",
       "    .dataframe tbody tr th:only-of-type {\n",
       "        vertical-align: middle;\n",
       "    }\n",
       "\n",
       "    .dataframe tbody tr th {\n",
       "        vertical-align: top;\n",
       "    }\n",
       "\n",
       "    .dataframe thead th {\n",
       "        text-align: right;\n",
       "    }\n",
       "</style>\n",
       "<table border=\"1\" class=\"dataframe\">\n",
       "  <thead>\n",
       "    <tr style=\"text-align: right;\">\n",
       "      <th></th>\n",
       "      <th>mgrno</th>\n",
       "      <th>permno</th>\n",
       "      <th>por_per_stock</th>\n",
       "    </tr>\n",
       "  </thead>\n",
       "  <tbody>\n",
       "    <tr>\n",
       "      <th>count</th>\n",
       "      <td>1.948288e+06</td>\n",
       "      <td>1.948288e+06</td>\n",
       "      <td>1.948288e+06</td>\n",
       "    </tr>\n",
       "    <tr>\n",
       "      <th>mean</th>\n",
       "      <td>2.535802e+04</td>\n",
       "      <td>5.426651e+04</td>\n",
       "      <td>7.372495e-05</td>\n",
       "    </tr>\n",
       "    <tr>\n",
       "      <th>std</th>\n",
       "      <td>2.249670e+04</td>\n",
       "      <td>3.332580e+04</td>\n",
       "      <td>1.225510e-04</td>\n",
       "    </tr>\n",
       "    <tr>\n",
       "      <th>min</th>\n",
       "      <td>1.100000e+02</td>\n",
       "      <td>1.002600e+04</td>\n",
       "      <td>0.000000e+00</td>\n",
       "    </tr>\n",
       "    <tr>\n",
       "      <th>25%</th>\n",
       "      <td>1.122200e+04</td>\n",
       "      <td>1.643100e+04</td>\n",
       "      <td>1.975159e-06</td>\n",
       "    </tr>\n",
       "    <tr>\n",
       "      <th>50%</th>\n",
       "      <td>1.398000e+04</td>\n",
       "      <td>6.499500e+04</td>\n",
       "      <td>1.580298e-05</td>\n",
       "    </tr>\n",
       "    <tr>\n",
       "      <th>75%</th>\n",
       "      <td>2.807000e+04</td>\n",
       "      <td>8.784200e+04</td>\n",
       "      <td>8.442267e-05</td>\n",
       "    </tr>\n",
       "    <tr>\n",
       "      <th>max</th>\n",
       "      <td>9.510500e+04</td>\n",
       "      <td>9.343600e+04</td>\n",
       "      <td>5.999981e-04</td>\n",
       "    </tr>\n",
       "  </tbody>\n",
       "</table>\n",
       "</div>"
      ],
      "text/plain": [
       "              mgrno        permno  por_per_stock\n",
       "count  1.948288e+06  1.948288e+06   1.948288e+06\n",
       "mean   2.535802e+04  5.426651e+04   7.372495e-05\n",
       "std    2.249670e+04  3.332580e+04   1.225510e-04\n",
       "min    1.100000e+02  1.002600e+04   0.000000e+00\n",
       "25%    1.122200e+04  1.643100e+04   1.975159e-06\n",
       "50%    1.398000e+04  6.499500e+04   1.580298e-05\n",
       "75%    2.807000e+04  8.784200e+04   8.442267e-05\n",
       "max    9.510500e+04  9.343600e+04   5.999981e-04"
      ]
     },
     "execution_count": 32,
     "metadata": {},
     "output_type": "execute_result"
    }
   ],
   "source": [
    "dfc = df[df.por_per_stock < 0.0006]\n",
    "dfc.describe()"
   ]
  },
  {
   "cell_type": "code",
   "execution_count": 33,
   "metadata": {
    "scrolled": true
   },
   "outputs": [
    {
     "data": {
      "text/plain": [
       "<AxesSubplot:ylabel='Frequency'>"
      ]
     },
     "execution_count": 33,
     "metadata": {},
     "output_type": "execute_result"
    },
    {
     "data": {
      "image/png": "[encoded data removed]",
      "text/plain": [
       "<Figure size 432x288 with 1 Axes>"
      ]
     },
     "metadata": {
      "needs_background": "light"
     },
     "output_type": "display_data"
    }
   ],
   "source": [
    "dfc.por_per_stock.plot.hist(bins=100)"
   ]
  },
  {
   "cell_type": "code",
   "execution_count": 34,
   "metadata": {},
   "outputs": [
    {
     "name": "stderr",
     "output_type": "stream",
     "text": [
      "C:\\Users\\ASUS\\anaconda3\\lib\\site-packages\\pandas\\core\\indexing.py:1736: SettingWithCopyWarning: \n",
      "A value is trying to be set on a copy of a slice from a DataFrame.\n",
      "Try using .loc[row_indexer,col_indexer] = value instead\n",
      "\n",
      "See the caveats in the documentation: https://pandas.pydata.org/pandas-docs/stable/user_guide/indexing.html#returning-a-view-versus-a-copy\n",
      "  isetter(loc, value[:, i].tolist())\n"
     ]
    },
    {
     "data": {
      "text/html": [
       "<div>\n",
       "<style scoped>\n",
       "    .dataframe tbody tr th:only-of-type {\n",
       "        vertical-align: middle;\n",
       "    }\n",
       "\n",
       "    .dataframe tbody tr th {\n",
       "        vertical-align: top;\n",
       "    }\n",
       "\n",
       "    .dataframe thead th {\n",
       "        text-align: right;\n",
       "    }\n",
       "</style>\n",
       "<table border=\"1\" class=\"dataframe\">\n",
       "  <thead>\n",
       "    <tr style=\"text-align: right;\">\n",
       "      <th></th>\n",
       "      <th>mgrno</th>\n",
       "      <th>permno</th>\n",
       "      <th>por_per_stock</th>\n",
       "    </tr>\n",
       "  </thead>\n",
       "  <tbody>\n",
       "    <tr>\n",
       "      <th>5335245</th>\n",
       "      <td>12902</td>\n",
       "      <td>71271</td>\n",
       "      <td>0.022258</td>\n",
       "    </tr>\n",
       "    <tr>\n",
       "      <th>4465948</th>\n",
       "      <td>12116</td>\n",
       "      <td>86996</td>\n",
       "      <td>0.009636</td>\n",
       "    </tr>\n",
       "    <tr>\n",
       "      <th>4465949</th>\n",
       "      <td>12116</td>\n",
       "      <td>68196</td>\n",
       "      <td>0.003471</td>\n",
       "    </tr>\n",
       "    <tr>\n",
       "      <th>4465950</th>\n",
       "      <td>12116</td>\n",
       "      <td>54199</td>\n",
       "      <td>0.002859</td>\n",
       "    </tr>\n",
       "    <tr>\n",
       "      <th>4465951</th>\n",
       "      <td>12116</td>\n",
       "      <td>66325</td>\n",
       "      <td>0.006919</td>\n",
       "    </tr>\n",
       "  </tbody>\n",
       "</table>\n",
       "</div>"
      ],
      "text/plain": [
       "         mgrno  permno  por_per_stock\n",
       "5335245  12902   71271       0.022258\n",
       "4465948  12116   86996       0.009636\n",
       "4465949  12116   68196       0.003471\n",
       "4465950  12116   54199       0.002859\n",
       "4465951  12116   66325       0.006919"
      ]
     },
     "execution_count": 34,
     "metadata": {},
     "output_type": "execute_result"
    }
   ],
   "source": [
    "#Vary the scale if needed\n",
    "scaler = MinMaxScaler(feature_range=(0,1))\n",
    "dfc.iloc[:,2:] = scaler.fit_transform(dfc.iloc[:,2:])\n",
    "dfc.head()"
   ]
  },
  {
   "cell_type": "code",
   "execution_count": 35,
   "metadata": {},
   "outputs": [
    {
     "data": {
      "text/html": [
       "<div>\n",
       "<style scoped>\n",
       "    .dataframe tbody tr th:only-of-type {\n",
       "        vertical-align: middle;\n",
       "    }\n",
       "\n",
       "    .dataframe tbody tr th {\n",
       "        vertical-align: top;\n",
       "    }\n",
       "\n",
       "    .dataframe thead th {\n",
       "        text-align: right;\n",
       "    }\n",
       "</style>\n",
       "<table border=\"1\" class=\"dataframe\">\n",
       "  <thead>\n",
       "    <tr style=\"text-align: right;\">\n",
       "      <th></th>\n",
       "      <th>mgrno</th>\n",
       "      <th>permno</th>\n",
       "      <th>por_per_stock</th>\n",
       "    </tr>\n",
       "  </thead>\n",
       "  <tbody>\n",
       "    <tr>\n",
       "      <th>count</th>\n",
       "      <td>1.948288e+06</td>\n",
       "      <td>1.948288e+06</td>\n",
       "      <td>1.948288e+06</td>\n",
       "    </tr>\n",
       "    <tr>\n",
       "      <th>mean</th>\n",
       "      <td>2.535802e+04</td>\n",
       "      <td>5.426651e+04</td>\n",
       "      <td>1.228753e-01</td>\n",
       "    </tr>\n",
       "    <tr>\n",
       "      <th>std</th>\n",
       "      <td>2.249670e+04</td>\n",
       "      <td>3.332580e+04</td>\n",
       "      <td>2.042523e-01</td>\n",
       "    </tr>\n",
       "    <tr>\n",
       "      <th>min</th>\n",
       "      <td>1.100000e+02</td>\n",
       "      <td>1.002600e+04</td>\n",
       "      <td>0.000000e+00</td>\n",
       "    </tr>\n",
       "    <tr>\n",
       "      <th>25%</th>\n",
       "      <td>1.122200e+04</td>\n",
       "      <td>1.643100e+04</td>\n",
       "      <td>3.291943e-03</td>\n",
       "    </tr>\n",
       "    <tr>\n",
       "      <th>50%</th>\n",
       "      <td>1.398000e+04</td>\n",
       "      <td>6.499500e+04</td>\n",
       "      <td>2.633839e-02</td>\n",
       "    </tr>\n",
       "    <tr>\n",
       "      <th>75%</th>\n",
       "      <td>2.807000e+04</td>\n",
       "      <td>8.784200e+04</td>\n",
       "      <td>1.407049e-01</td>\n",
       "    </tr>\n",
       "    <tr>\n",
       "      <th>max</th>\n",
       "      <td>9.510500e+04</td>\n",
       "      <td>9.343600e+04</td>\n",
       "      <td>1.000000e+00</td>\n",
       "    </tr>\n",
       "  </tbody>\n",
       "</table>\n",
       "</div>"
      ],
      "text/plain": [
       "              mgrno        permno  por_per_stock\n",
       "count  1.948288e+06  1.948288e+06   1.948288e+06\n",
       "mean   2.535802e+04  5.426651e+04   1.228753e-01\n",
       "std    2.249670e+04  3.332580e+04   2.042523e-01\n",
       "min    1.100000e+02  1.002600e+04   0.000000e+00\n",
       "25%    1.122200e+04  1.643100e+04   3.291943e-03\n",
       "50%    1.398000e+04  6.499500e+04   2.633839e-02\n",
       "75%    2.807000e+04  8.784200e+04   1.407049e-01\n",
       "max    9.510500e+04  9.343600e+04   1.000000e+00"
      ]
     },
     "execution_count": 35,
     "metadata": {},
     "output_type": "execute_result"
    }
   ],
   "source": [
    "dfc.describe()"
   ]
  },
  {
   "cell_type": "code",
   "execution_count": 36,
   "metadata": {},
   "outputs": [],
   "source": [
    "# Reduce size of dataset by taking top 3000 stocks\n",
    "stockIndex = dfc.groupby(\"permno\").count().sort_values(by= \\\n",
    "                \"por_per_stock\",ascending=False).iloc[0:3000].index\n",
    "dfx2_c = dfc[dfc.permno.isin(stockIndex)]\n",
    "\n",
    "# Reduce size of dataset by sampling the number of managers\n",
    "mgrIndex = dfx2_c.groupby(\"mgrno\").count().sort_values(by= \\\n",
    "    \"por_per_stock\",ascending=False).sample(n=3500, random_state=2018).index\n",
    "dfx3_c = dfx2_c[dfx2_c.mgrno.isin(mgrIndex)]"
   ]
  },
  {
   "cell_type": "code",
   "execution_count": 37,
   "metadata": {},
   "outputs": [],
   "source": [
    "dfsu_c = Dataset.load_from_df(dfx3_c,reader)\n",
    "trainset_c, testset_c = sur_train_test_split(dfsu_c, test_size=0.1,random_state=42)"
   ]
  },
  {
   "cell_type": "code",
   "execution_count": 38,
   "metadata": {},
   "outputs": [
    {
     "name": "stdout",
     "output_type": "stream",
     "text": [
      "MSE: 0.0307\n"
     ]
    },
    {
     "data": {
      "text/plain": [
       "0.03069698647513241"
      ]
     },
     "execution_count": 38,
     "metadata": {},
     "output_type": "execute_result"
    }
   ],
   "source": [
    "#Use the best latent factor from above\n",
    "best_latent = result[1][result[0].index(min(result[0]))]\n",
    "algo = NMF(n_factors = best_latent, n_epochs = 100)\n",
    "predictions = algo.fit(trainset_c).test(testset_c)\n",
    "accuracy.mse(predictions)"
   ]
  },
  {
   "cell_type": "code",
   "execution_count": null,
   "metadata": {},
   "outputs": [],
   "source": []
  },
  {
   "cell_type": "markdown",
   "metadata": {},
   "source": [
    "# Question:\n",
    "In addition to Pfizer, what other pharmaceutical stocks would Warren Buffet (mgrno = 8350) buy\n",
    "in present circumstances?"
   ]
  },
  {
   "cell_type": "code",
   "execution_count": 39,
   "metadata": {},
   "outputs": [],
   "source": [
    "#create managerId with all trainset stocks df\n",
    "def create_stocks(prediction,managerId):\n",
    "    stocks = pd.DataFrame(prediction).iloc[:,1].unique()\n",
    "    newdf  = pd.DataFrame(data =stocks,columns=['stockId'])\n",
    "    newdf.loc[:,'managerId'] = managerId\n",
    "    newdf.loc[:,'rating'] = 0\n",
    "    newdf = newdf[['managerId','stockId','rating']]\n",
    "    return newdf\n",
    "\n",
    "#process testset\n",
    "def process_testset(data,reader):\n",
    "    pro_test = Dataset.load_from_df(data,reader)\n",
    "    NA, testset = sur_train_test_split(pro_test, test_size=1.0)\n",
    "    prediction_test = algo.test(testset)\n",
    "    return prediction_test\n",
    "\n",
    "#find est with specific manager & specific stocks (eg: Medical stocks)\n",
    "def find_special_stocks(managerId,stockId,companycode,prediction):\n",
    "    stock_id = []\n",
    "    stock_est = []\n",
    "    code = []\n",
    "    for uid, iid, true_r, est, _ in prediction:\n",
    "        if (uid == managerId):\n",
    "            for i in range(len(stockId)):\n",
    "                permno = stockId[i]\n",
    "                company = companycode[i]\n",
    "                if (permno == iid):\n",
    "                    stock_id.append(iid)\n",
    "                    if (est != 0):\n",
    "                        est = round(est*10)\n",
    "                    stock_est.append(est)\n",
    "                    code.append(company)\n",
    "    stocklist = pd.DataFrame(data = [stock_id,code,stock_est], \\\n",
    "        index=['permno','companyCode','est']).T.\\\n",
    "        sort_values(by='est',ascending=False)\n",
    "    stocklist = stocklist.reset_index(drop=True) \n",
    "    return stocklist.reset_index(drop=True)"
   ]
  },
  {
   "cell_type": "code",
   "execution_count": 40,
   "metadata": {},
   "outputs": [],
   "source": [
    "# manager & stocks\n",
    "managerid = 8350\n",
    "med_permno = [13704, 15046, 15831, 16260, 17878, 17958, 18135, 18203, 21936, 52337, 80069, 82831, 77274, 79363, 22111, 18312, 19001]\n",
    "med_code = ['NEO','NVRO','AXSM','MEDP','EIDX','CNST','GH','KOD','PFE','THC','ARWR','INSY','GILD','AZN','JNJ','MRNA','BNTX']\n",
    "\n",
    "#create dataframe for the specific manager vs the selected stocks \n",
    "newdf = create_stocks(predictions,managerid)\n",
    "#prepare testset for surprice lib\n",
    "newpred = process_testset(newdf,reader)\n",
    "\n",
    "#predict est\n",
    "specific_stocks_prediction_8350 = find_special_stocks(managerid,med_permno,med_code, newpred)"
   ]
  },
  {
   "cell_type": "code",
   "execution_count": 41,
   "metadata": {},
   "outputs": [
    {
     "name": "stdout",
     "output_type": "stream",
     "text": [
      "Prediction est with specific manager & specific medical stocks :\n"
     ]
    },
    {
     "data": {
      "text/html": [
       "<div>\n",
       "<style scoped>\n",
       "    .dataframe tbody tr th:only-of-type {\n",
       "        vertical-align: middle;\n",
       "    }\n",
       "\n",
       "    .dataframe tbody tr th {\n",
       "        vertical-align: top;\n",
       "    }\n",
       "\n",
       "    .dataframe thead th {\n",
       "        text-align: right;\n",
       "    }\n",
       "</style>\n",
       "<table border=\"1\" class=\"dataframe\">\n",
       "  <thead>\n",
       "    <tr style=\"text-align: right;\">\n",
       "      <th></th>\n",
       "      <th>permno</th>\n",
       "      <th>companyCode</th>\n",
       "      <th>est</th>\n",
       "    </tr>\n",
       "  </thead>\n",
       "  <tbody>\n",
       "    <tr>\n",
       "      <th>0</th>\n",
       "      <td>21936</td>\n",
       "      <td>PFE</td>\n",
       "      <td>3</td>\n",
       "    </tr>\n",
       "    <tr>\n",
       "      <th>1</th>\n",
       "      <td>77274</td>\n",
       "      <td>GILD</td>\n",
       "      <td>3</td>\n",
       "    </tr>\n",
       "    <tr>\n",
       "      <th>2</th>\n",
       "      <td>22111</td>\n",
       "      <td>JNJ</td>\n",
       "      <td>3</td>\n",
       "    </tr>\n",
       "    <tr>\n",
       "      <th>3</th>\n",
       "      <td>18135</td>\n",
       "      <td>GH</td>\n",
       "      <td>2</td>\n",
       "    </tr>\n",
       "    <tr>\n",
       "      <th>4</th>\n",
       "      <td>16260</td>\n",
       "      <td>MEDP</td>\n",
       "      <td>2</td>\n",
       "    </tr>\n",
       "    <tr>\n",
       "      <th>5</th>\n",
       "      <td>79363</td>\n",
       "      <td>AZN</td>\n",
       "      <td>2</td>\n",
       "    </tr>\n",
       "    <tr>\n",
       "      <th>6</th>\n",
       "      <td>13704</td>\n",
       "      <td>NEO</td>\n",
       "      <td>1</td>\n",
       "    </tr>\n",
       "    <tr>\n",
       "      <th>7</th>\n",
       "      <td>15046</td>\n",
       "      <td>NVRO</td>\n",
       "      <td>1</td>\n",
       "    </tr>\n",
       "    <tr>\n",
       "      <th>8</th>\n",
       "      <td>80069</td>\n",
       "      <td>ARWR</td>\n",
       "      <td>1</td>\n",
       "    </tr>\n",
       "    <tr>\n",
       "      <th>9</th>\n",
       "      <td>52337</td>\n",
       "      <td>THC</td>\n",
       "      <td>1</td>\n",
       "    </tr>\n",
       "    <tr>\n",
       "      <th>10</th>\n",
       "      <td>18312</td>\n",
       "      <td>MRNA</td>\n",
       "      <td>1</td>\n",
       "    </tr>\n",
       "    <tr>\n",
       "      <th>11</th>\n",
       "      <td>15831</td>\n",
       "      <td>AXSM</td>\n",
       "      <td>1</td>\n",
       "    </tr>\n",
       "  </tbody>\n",
       "</table>\n",
       "</div>"
      ],
      "text/plain": [
       "   permno companyCode est\n",
       "0   21936         PFE   3\n",
       "1   77274        GILD   3\n",
       "2   22111         JNJ   3\n",
       "3   18135          GH   2\n",
       "4   16260        MEDP   2\n",
       "5   79363         AZN   2\n",
       "6   13704         NEO   1\n",
       "7   15046        NVRO   1\n",
       "8   80069        ARWR   1\n",
       "9   52337         THC   1\n",
       "10  18312        MRNA   1\n",
       "11  15831        AXSM   1"
      ]
     },
     "execution_count": 41,
     "metadata": {},
     "output_type": "execute_result"
    }
   ],
   "source": [
    "print(\"Prediction est with specific manager & specific medical stocks :\")\n",
    "specific_stocks_prediction_8350"
   ]
  },
  {
   "cell_type": "markdown",
   "metadata": {},
   "source": [
    "## Answer:\n",
    "In Addition To Pfizer, Warren Buffet may also buy Gilead Sciences(GILD) and Johnson & Johnson(JNJ).\n"
   ]
  },
  {
   "cell_type": "code",
   "execution_count": null,
   "metadata": {},
   "outputs": [],
   "source": []
  }
 ],
 "metadata": {
  "kernelspec": {
   "display_name": "Python 3",
   "language": "python",
   "name": "python3"
  },
  "language_info": {
   "codemirror_mode": {
    "name": "ipython",
    "version": 3
   },
   "file_extension": ".py",
   "mimetype": "text/x-python",
   "name": "python",
   "nbconvert_exporter": "python",
   "pygments_lexer": "ipython3",
   "version": "3.8.5"
  }
 },
 "nbformat": 4,
 "nbformat_minor": 4
}
